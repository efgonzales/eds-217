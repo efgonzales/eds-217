{
 "cells": [
  {
   "cell_type": "markdown",
   "metadata": {
    "slideshow": {
     "slide_type": "slide"
    }
   },
   "source": [
    "# Exercise 1.2: Lists + Indexing\n",
    "Python has four collection data types, the most common of which is the **list**. This exercise introduces lists and a few of the important list operations. We will also cover **indexing**, a key feature of programming.\n",
    "\n",
    "<p style=\"height:1pt\"> </p>\n",
    "\n",
    "<div class=\"boxhead1\">\n",
    "    Exercise 1.2 Topics\n",
    "</div>\n",
    "\n",
    "<div class=\"boxtext1\">\n",
    "<ul class=\"a\">\n",
    "    <li> 📌 List basics </li>\n",
    "    <ul class=\"b\">\n",
    "        <li> List notation </li>\n",
    "        <li> <code>len()</code>, <code>min()</code>, <code>max()</code></li>\n",
    "    </ul>\n",
    "    <li> 📌 Indexing + slicing </li>\n",
    "    <li> 📌 List operations </li> \n",
    "    <ul class=\"b\">\n",
    "        <li> In-place operators </li>\n",
    "        <li> Standard operators </li>\n",
    "        <li> Copies vs. views </li>\n",
    "        <li> Adding lists </li>\n",
    "    </ul>\n",
    "    <li> 📌 Generating sequential lists\n",
    "</ul>\n",
    "</div>\n",
    "\n",
    "<hr style=\"border-top: 0.2px solid gray; margin-top: 12pt; margin-bottom: 0pt\"></hr>\n",
    "\n",
    "### Instructions\n",
    "Work through the exercise, writing code where indicated. To run a cell, click on the cell and press \"Shift\" + \"Enter\" or click the \"Run\" button in the toolbar at the top. Note: Do not restart the kernel and clear all outputs. If this happens, run the last cell in the notebook before proceeding.\n",
    "\n",
    "<p style=\"color:#408000; font-weight: bold\"> 🐍 &nbsp; &nbsp; This symbol designates an important note about Python structure, syntax, or another quirk.  </p>\n",
    "\n",
    "<p style=\"color:#008C96; font-weight: bold\"> ▶️ &nbsp; &nbsp; This symbol designates a cell with code to be run.  </p>\n",
    "\n",
    "<p style=\"color:#008C96; font-weight: bold\"> ✏️ &nbsp; &nbsp; This symbol designates a partially coded cell with an example.  </p>\n",
    "\n",
    "<p style=\"color:#008C96; font-weight: bold\"> 📚 &nbsp; &nbsp; This symbol designates a practice question.  </p>\n",
    "\n",
    "\n",
    "<hr style=\"border-top: 1px solid gray; margin-top: 24px; margin-bottom: 1px\"></hr>"
   ]
  },
  {
   "cell_type": "markdown",
   "metadata": {},
   "source": [
    "## Lists\n",
    "A list is a Python object used to contain multiple values. Lists are ordered and changeable. They are defined as follows:\n",
    "\n",
    "```python\n",
    "num_list = [4, 23, 654, 2, 0, -12, 4391]\n",
    "str_list = ['energy', 'water', 'carbon']\n",
    "```\n",
    "\n",
    "<div class=\"run\">\n",
    "    ▶️ <b> Run the cell below. </b>\n",
    "</div>"
   ]
  },
  {
   "cell_type": "code",
   "execution_count": null,
   "metadata": {},
   "outputs": [],
   "source": [
    "# Define list variables\n",
    "num_list = [4, 23, 654, 2, 0, -12, 4391]\n",
    "str_list = ['energy', 'water', 'carbon']"
   ]
  },
  {
   "cell_type": "markdown",
   "metadata": {},
   "source": [
    "While you can create lists containing mixed data types, this is not usually recommended.\n",
    "\n",
    "The `len()` command returns the length of the list.\n",
    "\n",
    "```python\n",
    "len(str_list)\n",
    ">>> 3\n",
    "```\n",
    "\n",
    "The `min()` and `max()` commands are used to find the minimum and maximum values in a list. For a list of strings, this corresponds to the alphabetically first and last elements.\n",
    "\n",
    "```python\n",
    "min(str_list)\n",
    ">>> 'carbon'\n",
    "\n",
    "max(str_list)\n",
    ">>> 'water'\n",
    "\n",
    "```\n",
    "\n",
    "<div class=\"example\">\n",
    "    ✏️ <b> Try it. </b> \n",
    "    Use the <code>len()</code>, <code>min()</code>, and <code>max()</code> commands to find the length, minimum, and maximum of <code>num_list</code>.\n",
    "</div>"
   ]
  },
  {
   "cell_type": "code",
   "execution_count": null,
   "metadata": {},
   "outputs": [],
   "source": [
    "# Find the length of num_list\n",
    "print(len(num_list))\n",
    "# Minimum value of num_list\n",
    "print(min(num_list))\n",
    "# Maximum value of num_list\n",
    "print(max(num_list))"
   ]
  },
  {
   "cell_type": "markdown",
   "metadata": {},
   "source": [
    "<hr style=\"border-top: 0.2px solid gray; margin-top: 12px; margin-bottom: 1px\"></hr>\n",
    "\n",
    "### Indexing\n",
    "The index is used to reference a value in an iterable object by its position. To access an element in a list by its index, use square brackets `[]`.\n",
    "\n",
    "<div class=\"python\">\n",
    "    🐍 <b>Note.</b> Python is zero-indexed. This means that the first element in the list is 0, the second is 1, and so on. The last element in a list with $n$ elements is $n - $1.\n",
    "</div>\n",
    " \n",
    "```python\n",
    "num_list[2]\n",
    ">>> 654\n",
    "```\n",
    "You can also access an element based on its position from the end of the list.\n",
    "```python\n",
    "num_list[-2]\n",
    ">>> -12\n",
    "```\n",
    "\n",
    "<div class=\"example\">\n",
    "    ✏️ <b> Try it. </b> \n",
    "    Find the 2nd element in <code>str_list</code> in two different ways. Remember that Python is zero-indexed!\n",
    "</div>"
   ]
  },
  {
   "cell_type": "code",
   "execution_count": null,
   "metadata": {},
   "outputs": [],
   "source": [
    "# Option 1\n",
    "print(str_list[1])\n",
    "# Option 2\n",
    "print(str_list[-2])"
   ]
  },
  {
   "cell_type": "markdown",
   "metadata": {},
   "source": [
    "Accessing a range of values in a list is called **slicing**. A slice specifies a start and an endpoint, generating a new list based on the indices. The indices are separated by a `:`.\n",
    "\n",
    "<div class=\"python\">\n",
    "    🐍 <b>Note.</b>  The endpoint index in the slice is <i>exclusive</i>. To slice to the end of the list, omit an endpoint.\n",
    "</div>\n",
    "\n",
    "```python\n",
    "num_list[2:6]\n",
    ">>> [654, 2, 0, -12]\n",
    "\n",
    "num_list[0:4]   \n",
    ">>> [4, 23, 654, 2]\n",
    "\n",
    "num_list[:4]    \n",
    ">>> [4, 23, 654, 2]\n",
    "\n",
    "num_list[-6:-1] \n",
    ">>> [23, 654, 2, 0,-12]\n",
    "```\n",
    "It is also possible to specify a step size, i.e. `[start:stop:step]`. A step size of 1 would select every element, 2 would select every other element, etc.\n",
    "```python\n",
    "num_list[0:4:2]  \n",
    ">>> [4, 654]\n",
    "\n",
    "num_list[::2]    \n",
    ">>>[4, 654, 0, 4391]\n",
    "```\n",
    "A step of -1 returns the list in reverse.\n",
    "```python\n",
    "num_list[::-1]\n",
    ">>> [4391, -12, 0, 2, 654, 23, 4]\n",
    "```\n",
    "<div class=\"practice\">\n",
    "    📚  <b> Practice 1. </b> \n",
    "    Define a new list of <b>floats</b> with <b>8 elements</b> called <code>my_list</code>. \n",
    "\n",
    "   1. Find the 5th element in your list.\n",
    "   2. Create a new list containing every other value in your original list.\n",
    "   3. Using slicing and two different methods of indexing, remove the first and last values in your list.\n",
    "</div>"
   ]
  },
  {
   "cell_type": "code",
   "execution_count": null,
   "metadata": {},
   "outputs": [],
   "source": [
    "# Define a new list called my_list.\n",
    "my_list = [432.0,-401.943582,3.9,0.8712054,57849.097,1.2753,-98437.0,7.78]\n",
    "# Find the 5th element.\n",
    "print(my_list[4])\n",
    "# New list with every other value.\n",
    "odds = my_list[::2]\n",
    "# Remove first and last values. \n",
    "my_list[1:-1]"
   ]
  },
  {
   "cell_type": "markdown",
   "metadata": {},
   "source": [
    "Like lists, strings can also be indexed using the same notation. This can be useful for many applications, such as selecting files in a certain folder for import based on their names or extension.\n",
    "\n",
    "```python\n",
    "word_str = 'antidisestablishmentarianism'\n",
    "\n",
    "word_str[14]\n",
    ">>> 's'\n",
    "\n",
    "word_str[::3]\n",
    ">>> 'aistlhnrnm'\n",
    "\n",
    "```\n",
    "\n",
    "<div class=\"practice\">\n",
    "    📚  <b> Practice 2. </b> \n",
    "    Use indexing to extract the second letter of the third element ('a') in <code>str_list</code>.\n",
    "</div>\n"
   ]
  },
  {
   "cell_type": "code",
   "execution_count": null,
   "metadata": {},
   "outputs": [],
   "source": [
    "str_list[2][1]"
   ]
  },
  {
   "cell_type": "markdown",
   "metadata": {},
   "source": [
    "<hr style=\"border-top: 0.2px solid gray; margin-top: 12px; margin-bottom: 1px\"></hr>\n",
    "\n",
    "### List Operations\n",
    "Elements can be added to a list using the command `list.append()`.\n",
    "\n",
    "<div class=\"run\">\n",
    "    ▶️ <b> Run the cell below. </b>\n",
    "</div>"
   ]
  },
  {
   "cell_type": "code",
   "execution_count": null,
   "metadata": {},
   "outputs": [],
   "source": [
    "colors = ['red', 'blue', 'green', 'black', 'white']\n",
    "colors.append('pink')\n",
    "print(colors)"
   ]
  },
  {
   "cell_type": "markdown",
   "metadata": {},
   "source": [
    "\n",
    "\n",
    "You can **add** an element to a list in a specific position using the command `list.insert()`.\n",
    "```python\n",
    "colors.insert(4, 'purple')\n",
    "print(colors)\n",
    ">>> ['red', 'blue', 'green', 'black', 'purple', 'white', 'pink']\n",
    "```\n",
    "\n",
    "<div class=\"example\">\n",
    "    ✏️ <b> Try it. </b> \n",
    "    Add <code>'purple'</code> to the list <code>colors</code> between <code>'green'</code> and <code>'black'</code>.\n",
    "</div>"
   ]
  },
  {
   "cell_type": "code",
   "execution_count": null,
   "metadata": {},
   "outputs": [],
   "source": [
    "colors.insert(3,'purple')\n",
    "print(colors)"
   ]
  },
  {
   "cell_type": "markdown",
   "metadata": {},
   "source": [
    "There are multiple ways to **remove** elements from a list. The commands `list.pop()` and `del` remove elements based on indices.\n",
    "```python\n",
    "colors.pop()       # removes the last element\n",
    "colors.pop(2)      # removes the third element\n",
    "del colors[2]      # removes the third element\n",
    "del colors[2:4]    # removes the third and fourth elements\n",
    "```\n",
    "The command `list.remove()` removes an element based on its value.\n",
    "```python\n",
    "colors.remove('red')\n",
    "print(colors)\n",
    ">>> ['blue', 'green', 'black', 'purple', 'white', 'pink']\n",
    "```\n",
    "\n",
    "<div class=\"example\">\n",
    "    ✏️ <b> Try it. </b> \n",
    "    Remove <code>'pink'</code> and <code>'purple'</code> from <code>colors</code>, using <code>del</code> for one of the strings and <code>list.remove()</code> for the other.\n",
    "</div>"
   ]
  },
  {
   "cell_type": "code",
   "execution_count": null,
   "metadata": {},
   "outputs": [],
   "source": [
    "# Delete 'pink'\n",
    "del colors[-1]\n",
    "# Remove 'purple'\n",
    "colors.remove('purple')\n",
    "# Print\n",
    "print(colors)"
   ]
  },
  {
   "cell_type": "markdown",
   "metadata": {},
   "source": [
    "You can **sort** the elements in a list (numerically or alphabetically) in two ways. The first uses the command `list.sort()`.\n",
    "\n",
    "\n",
    "<div class=\"run\">\n",
    "    ▶️ <b> Run the cell below. </b>\n",
    "</div>"
   ]
  },
  {
   "cell_type": "code",
   "execution_count": null,
   "metadata": {},
   "outputs": [],
   "source": [
    "rand_list = [5.1 , 3.42 , 3.333 , 100.4 , 0.5 , 26.0 , 7.44 , 5.8 , 39.0]\n",
    "rand_list.sort()\n",
    "print(rand_list)"
   ]
  },
  {
   "cell_type": "markdown",
   "metadata": {},
   "source": [
    "Setting `reverse=True` within this command sorts the list in reverse order:\n",
    "```python\n",
    "rand_list = [5.1 , 3.42 , 3.333 , 100.4 , 0.5 , 26.0 , 7.44 , 5.8 , 39.0]\n",
    "rand_list.sort(reverse=True)\n",
    "print(rand_list)\n",
    ">>> [100.4, 39.0, 26.0, 7.44, 5.8, 5.1, 3.42, 3.333, 0.5]\n",
    "```\n",
    "So far, all of the list commands we've used have been **in-place operators**. This means that they perform the operation to the variable in place without requiring a new variable to be assigned. By contrast, **standard operators** do not change the original list variable. A new variable must be set in order to retain the operation. \n",
    "\n",
    "<div class=\"example\">\n",
    "    ✏️ <b> Try it. </b> \n",
    "    Verify that <code>rand_list</code> was, in fact, sorted in place by using the <code>min()</code> and <code>max()</code> functions to determine the minmum and maximum values in the list and printing the first and last values in the list.\n",
    "</div>"
   ]
  },
  {
   "cell_type": "code",
   "execution_count": null,
   "metadata": {},
   "outputs": [],
   "source": [
    "# Print the min and max values in rand_list.\n",
    "print(min(rand_list))\n",
    "print(max(rand_list))\n",
    "# Print the first and last values in rand_list.\n",
    "print(rand_list[0])\n",
    "print(rand_list[-1])"
   ]
  },
  {
   "cell_type": "markdown",
   "metadata": {},
   "source": [
    "The other method of sorting a list is to use the `sorted()` command, which does not change the original list. Instead, the sorted list must be assigned to a new variable.\n",
    "```python\n",
    "rand_list = [5.1 , 3.42 , 3.333 , 100.4 , 0.5 , 26.0 , 7.44 , 5.8 , 39.0]\n",
    "sorted_list = sorted(rand_list)\n",
    "print(rand_list[0])\n",
    "print(sorted_list[0])\n",
    ">>> 5.1\n",
    "    0.5\n",
    "```\n",
    "To avoid changing the original variable when using an in-place operator, it is wise to create a copy. There are multiple ways to create copies of lists, but it is important to know the difference between a true **copy** and a **view**. A view of a list can be created as follows:\n",
    "```python\n",
    "str_list = ['energy', 'water', 'carbon']\n",
    "str_list_view = str_list\n",
    "```\n",
    "Any in-place operation performed on `str_list_view` will also be applied to `str_list`. To avoid this, create a copy of `str_list` using any of the following methods:\n",
    "```python\n",
    "str_list_copy = str_list.copy()\n",
    "# or\n",
    "str_list_copy = str_list[:]\n",
    "# or\n",
    "str_list_copy = list(str_list)\n",
    "```\n",
    "\n",
    "<div class=\"practice\">\n",
    "    📚  <b> Practice 3. </b> \n",
    "    Create a copy of <code>my_list</code>, which you assigned above. \n",
    "    \n",
    "   1. Using indexing or list operators, remove the first and last elements of your copied list.\n",
    "   2. Sort both the original list and the copied list in reverse order.\n",
    "   3. Use the <code>len()</code> function and a boolean operator to determine which list is longer.\n",
    "</div>"
   ]
  },
  {
   "cell_type": "code",
   "execution_count": null,
   "metadata": {},
   "outputs": [],
   "source": [
    "# Create a copy of mylist.\n",
    "my_list_copy = my_list[1:-1]\n",
    "# Sort both lists from largest to smallest.\n",
    "my_list.sort()\n",
    "my_list_copy.sort()\n",
    "# Determine which list is longer.\n",
    "len(my_list) > len(my_list_copy)"
   ]
  },
  {
   "cell_type": "markdown",
   "metadata": {},
   "source": [
    "In addition to adding single elements to a list using `list.append()` or `list.insert()`, multiple elements can be added to a list at the same time by adding multiple lists together.\n",
    "\n",
    "```python\n",
    "rainbow  = ['red', 'orange', 'yellow', 'green', 'blue', 'indigo', 'violet']\n",
    "shades = ['coral', 'chartreuse', 'cyan', 'navy']\n",
    "print( rainbow + shades )\n",
    ">>> ['red', 'orange', 'yellow', 'green', 'blue', 'indigo', 'violet', 'coral', 'chartreuse', 'cyan', 'navy']\n",
    "```\n",
    "\n",
    "<div class=\"practice\">\n",
    "    📚  <b> Practice 4. </b> \n",
    "    Add <code>rand_list</code> and <code>my_list</code> together in a new list called <code>float_list</code>. Print the result.\n",
    "</div>"
   ]
  },
  {
   "cell_type": "code",
   "execution_count": null,
   "metadata": {},
   "outputs": [],
   "source": [
    "float_list = rand_list + my_list\n",
    "print(float_list)"
   ]
  },
  {
   "cell_type": "markdown",
   "metadata": {},
   "source": [
    "Single lists can be repeated by multiplying by an integer. \n",
    "\n",
    "<div class=\"run\">\n",
    "    ▶️ <b> Run the cell below. </b>\n",
    "</div>"
   ]
  },
  {
   "cell_type": "code",
   "execution_count": null,
   "metadata": {},
   "outputs": [],
   "source": [
    "str_list2 = str_list * 2\n",
    "num_list4 = num_list * 4\n",
    "print( str_list2 )\n",
    "print( num_list4 )"
   ]
  },
  {
   "cell_type": "markdown",
   "metadata": {},
   "source": [
    "### Generating sequential lists\n",
    "Sequential lists are valuable tools, particularly for iteration, which we will explore in the next exercise. The `range()` function is used to create an iterable object based on the size of an integer argument.\n",
    "\n",
    "```python\n",
    "range(4)\n",
    ">>> range(0, 4)\n",
    "```\n",
    "\n",
    "To construct a sequential list from the `range()` object, use the `list()` function.\n",
    "\n",
    "```python\n",
    "list(range(4))\n",
    ">>> [0, 1, 2, 3]\n",
    "```\n",
    "\n",
    "Using multiple integer arguments, the `range()` function can be used to generate sequential lists between two bounds: `range(start, stop [, step])`.\n",
    "\n",
    "<div class=\"python\">\n",
    "    🐍 <b>Note.</b> \n",
    "    Like indexing, all Python functions using <span style=\"font-style: italic\"> start </span> and <span style=\"font-style: italic\"> stop </span> arguments, the <span style=\"font-style: italic\"> stop </span> value is <span style=\"font-weight: bold\"> exclusive </span>.\n",
    "</div>\n",
    "\n",
    "```python\n",
    "range_10 = list(range(1,11))\n",
    "odds_10 = list(range(1,11,2))\n",
    "print(range_10)\n",
    "print(odds_10)\n",
    ">>> [1, 2, 3, 4, 5, 6, 7, 8, 9, 10]\n",
    "    [1, 3, 5, 7, 9]\n",
    "```\n",
    "\n",
    "<div class=\"practice\">\n",
    "    📚  <b> Practice 5. </b> \n",
    "    Use the <code>range()</code> function to construct a list of all hundreds (e.g. 100, 200, etc.) between 0 and 1000, inclusive.\n",
    "</div>\n"
   ]
  },
  {
   "cell_type": "code",
   "execution_count": null,
   "metadata": {},
   "outputs": [],
   "source": [
    "# Construct a list of hundreds from 0 to 1000\n",
    "hundreds = list(range(0,1001,100))\n",
    "# Print your list\n",
    "print(hundreds)"
   ]
  },
  {
   "cell_type": "markdown",
   "metadata": {},
   "source": [
    "<hr style=\"border-top: 1px solid gray; margin-top: 24px; margin-bottom: 1px\"></hr>"
   ]
  },
  {
   "cell_type": "code",
   "execution_count": null,
   "metadata": {
    "cell.metadata.hide_input": "True"
   },
   "outputs": [],
   "source": [
    "from IPython.core.display import HTML\n",
    "def css_styling():\n",
    "    styles = open(\"./styles/exercises.css\", \"r\").read()\n",
    "    return HTML(styles)\n",
    "css_styling()"
   ]
  }
 ],
 "metadata": {
  "kernelspec": {
   "display_name": "Python 3 (ipykernel)",
   "language": "python",
   "name": "python3"
  },
  "language_info": {
   "codemirror_mode": {
    "name": "ipython",
    "version": 3
   },
   "file_extension": ".py",
   "mimetype": "text/x-python",
   "name": "python",
   "nbconvert_exporter": "python",
   "pygments_lexer": "ipython3",
   "version": "3.10.5"
  }
 },
 "nbformat": 4,
 "nbformat_minor": 4
}
