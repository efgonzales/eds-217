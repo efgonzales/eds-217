{
 "cells": [
  {
   "cell_type": "markdown",
   "metadata": {
    "slideshow": {
     "slide_type": "slide"
    }
   },
   "source": [
    "# Exercise 1.1: Variables + Operators\n",
    "All programming languages contain the same fundamental tools: `variables`, `operators`, and `functions`. This tutorial covers the first two of these basic elements of the Python language. \n",
    "\n",
    "<p style=\"height:1pt\"> </p>\n",
    "\n",
    "<div class=\"boxhead1\">\n",
    "    Exercise 1.1 Topics\n",
    "</div>\n",
    "\n",
    "<div class=\"boxtext1\">\n",
    "<ul class=\"a\">\n",
    "    <li> 📌 Numbers: <code>int</code>, <code>float</code> </li>\n",
    "    <ul class=\"b\">\n",
    "        <li> Arithmetic operators </li>\n",
    "        <li> Boolean operators </li>\n",
    "        <li> Built-in functions for numerical objects </li>\n",
    "    </ul>\n",
    "    <li> 📌 Strings </li>\n",
    "    <ul class=\"b\">\n",
    "        <li> Built-in functions for strings </li>\n",
    "        <li> Formatted print statements </li>\n",
    "    </ul>\n",
    "</ul>\n",
    "</div>\n",
    "\n",
    "<hr style=\"border-top: 0.2px solid gray; margin-top: 12pt; margin-bottom: 0pt\"></hr>\n",
    "\n",
    "### Instructions\n",
    "Work through the exercise, writing code where indicated. To run a cell, click on the cell and press \"Shift\" + \"Enter\" or click the \"Run\" button in the toolbar at the top. Note: Do not restart the kernel and clear all outputs. If this happens, run the last cell in the notebook before proceeding.\n",
    "\n",
    "<p style=\"color:#408000; font-weight: bold\"> 🐍 &nbsp; &nbsp; This symbol designates an important note about Python structure, syntax, or another quirk.  </p>\n",
    "\n",
    "<p style=\"color:#008C96; font-weight: bold\"> ▶️ &nbsp; &nbsp; This symbol designates a cell with code to be run.  </p>\n",
    "\n",
    "<p style=\"color:#008C96; font-weight: bold\"> ✏️ &nbsp; &nbsp; This symbol designates a partially coded cell with an example.  </p>\n",
    "\n",
    "<p style=\"color:#008C96; font-weight: bold\"> 📚 &nbsp; &nbsp; This symbol designates a practice question.  </p>\n",
    "\n",
    "\n",
    "<hr style=\"border-top: 1px solid gray; margin-top: 24px; margin-bottom: 1px\"></hr>"
   ]
  },
  {
   "cell_type": "markdown",
   "metadata": {
    "slideshow": {
     "slide_type": "subslide"
    }
   },
   "source": [
    "## Variables + Operators\n",
    "Variables are used in Python to create references to an object (e.g. string, float, DataFrame, etc.). Variables are assigned in Python using `=`.\n",
    "\n",
    "<div class=\"python\">\n",
    "    🐍 <b>Note.</b>\n",
    "    Variable names should be chosen carefully and should indicate what the variable is used for. Python etiquette generally dictates using lowercase variable names. Underscores are common. Variable names cannot start with a number. Also, there are several names that cannot be used as variables, as they are reserved for built-in Python commands, functions, etc. We will see examples of these throughout this exercise.\n",
    "</div>\n",
    "\n",
    "\n",
    "<hr style=\"border-top: 0.2px solid gray; margin-top: 12px; margin-bottom: 1px\"></hr>\n",
    "\n",
    "### Numbers\n",
    "Numbers in Python can be either **integers** (whole numbers) or **floats** (floating point decimal numbers).\n",
    "\n",
    "The following syntax is used to define an integer:\n",
    "```python\n",
    "x = 1\n",
    "y = 42\n",
    "```\n",
    "\n",
    "<div class=\"run\">\n",
    "    ▶️ Run the cell below.\n",
    "</div>"
   ]
  },
  {
   "cell_type": "code",
   "execution_count": null,
   "metadata": {},
   "outputs": [],
   "source": [
    "# Define variables x and y as integers.\n",
    "x = 1\n",
    "y = 42"
   ]
  },
  {
   "cell_type": "markdown",
   "metadata": {},
   "source": [
    "The following syntax is used to define a float:\n",
    "```python\n",
    "a = 1.0\n",
    "b = 42.0\n",
    "c = 23.782043\n",
    "```\n",
    "\n",
    "<div class=\"example\">\n",
    "    ✏️ Try it.\n",
    "    Define variables a, b, and c according to the values above.\n",
    "</div>"
   ]
  },
  {
   "cell_type": "code",
   "execution_count": null,
   "metadata": {},
   "outputs": [],
   "source": [
    "# Define variables a, b, and c as floats.\n",
    "a = 1.0\n",
    "b = 42.0\n",
    "c = 23.782043"
   ]
  },
  {
   "cell_type": "markdown",
   "metadata": {},
   "source": [
    "<h4 style=\"border:1px; border-style:solid; border-color:black; padding: 0.5em;\"> <span style=\"color:black\"> Arithmetic Operators </span> </h4>\n",
    "\n",
    "Just like a calculator, basic arithmetic can be done on number variables. Python uses the following symbols \n",
    "\n",
    "| Symbol | Task           |\n",
    "| :----: | :---           |\n",
    "|   +    | Addition       |\n",
    "|   -    | Subtraction    |\n",
    "|   *    | Multiplication |\n",
    "|   /    | Division       |\n",
    "|   %    | Modular        |\n",
    "|  //    | Floor division |\n",
    "|  **    | Power          |\n",
    "\n",
    "\n",
    "<div class=\"example\">\n",
    "✏️  Try it.\n",
    "    Practice these arithmetic operations by running the code in the cell below. Feel free to add more to test the operators. Use the <code>print()</code>  command to output your answers.\n",
    "</div>"
   ]
  },
  {
   "cell_type": "code",
   "execution_count": null,
   "metadata": {},
   "outputs": [],
   "source": [
    "# Do some math.\n",
    "t = x + y\n",
    "u = c / 7.1\n",
    "v = a - u * (c + u)\n",
    "w = c % 2\n",
    "\n",
    "# Print your answers.\n",
    "print(t)\n",
    "print(u)\n",
    "print(v)\n",
    "print(w)"
   ]
  },
  {
   "cell_type": "markdown",
   "metadata": {},
   "source": [
    "Notice that the order of operations applies.\n",
    "\n",
    "<h4 style=\"border:1px; border-style:solid; border-color:black; padding: 0.5em;\"> <span style=\"color:black\"> Boolean Operators </span> </h4>\n",
    "\n",
    "Boolean operators evaluate a condition between two operands, returning `True` if the condition is met and `False` otherwise. `True` and `False` are called **booleans**.\n",
    "\n",
    "| Symbol | Task                     |\n",
    "| :----: | :----------------------  |\n",
    "|   ==   | Equals                   |\n",
    "|  !=    | Does not equal           |\n",
    "|   <    | Less than                |\n",
    "|   >    | Greater than             |\n",
    "|   <=   | Less than or equal to    |\n",
    "|   >=   | Greater than or equal to |\n",
    "\n",
    "<div class=\"run\">\n",
    "    ▶️ Run the cell below.\n",
    "</div>"
   ]
  },
  {
   "cell_type": "code",
   "execution_count": null,
   "metadata": {},
   "outputs": [],
   "source": [
    "print( b >= w )\n",
    "print( 87 < -2 )\n",
    "print( c != 0 )\n",
    "print( y == x)"
   ]
  },
  {
   "cell_type": "markdown",
   "metadata": {},
   "source": [
    "<h4 style=\"border:1px; border-style:solid; border-color:black; padding: 0.5em;\"> <span style=\"color:black\"> Built-in functions </span> </h4>\n",
    "\n",
    "Python has a number of built-in functions. Here we will introduce a few of the useful built-in functions for numerical variables. \n",
    "\n",
    "The `type()` function is used to check the data type of a variable. For numerical arguments, either `float` or `int` is returned.\n",
    "\n",
    "<div class=\"run\">\n",
    "    ▶️ Run the cell below.\n",
    "</div>"
   ]
  },
  {
   "cell_type": "code",
   "execution_count": null,
   "metadata": {},
   "outputs": [],
   "source": [
    "type(v)"
   ]
  },
  {
   "cell_type": "markdown",
   "metadata": {},
   "source": [
    "The `isinstance()` function is used to determine whether an argument is in a certain class. It returns a boolean value. Multiple classes can be checked at once.\n",
    "\n",
    "```python\n",
    "isinstance(12, int)\n",
    ">>> True\n",
    "\n",
    "isinstance(12.0,int)\n",
    ">>> False\n",
    "\n",
    "isinstance(12.0,(int,float))\n",
    ">>> True\n",
    "```"
   ]
  },
  {
   "cell_type": "markdown",
   "metadata": {},
   "source": [
    "The commands `int()` and `float()` are used to convert between data types.\n",
    "\n",
    "<div class=\"run\">\n",
    "    ▶️ Run the cell below.\n",
    "</div>"
   ]
  },
  {
   "cell_type": "code",
   "execution_count": null,
   "metadata": {},
   "outputs": [],
   "source": [
    "print( float(y) )\n",
    "print( int(c) )"
   ]
  },
  {
   "cell_type": "markdown",
   "metadata": {},
   "source": [
    "Notice that when converting a float value to an integer, the `int()` command always rounds *down* to the nearest whole number.\n",
    "\n",
    "To round a float to the nearest whole number, use the function `round()`. You can specify the number of decimal places by adding an integer as an argument to the `round()` function .\n",
    "\n",
    "<div class=\"run\">\n",
    "    ▶️ Run the cell below.\n",
    "</div>"
   ]
  },
  {
   "cell_type": "code",
   "execution_count": null,
   "metadata": {},
   "outputs": [],
   "source": [
    "print( round(c) )\n",
    "print( round(c,3) )"
   ]
  },
  {
   "cell_type": "markdown",
   "metadata": {},
   "source": [
    "The `complex()` function is used to define a complex number.\n",
    "\n",
    "<div class=\"run\">\n",
    "    ▶️ Run the cell below.\n",
    "</div>"
   ]
  },
  {
   "cell_type": "code",
   "execution_count": null,
   "metadata": {},
   "outputs": [],
   "source": [
    "d = complex('5+2j')"
   ]
  },
  {
   "cell_type": "markdown",
   "metadata": {},
   "source": [
    "To return the absolute value of a number, use the `abs()` function.\n",
    "\n",
    "<div class=\"run\">\n",
    "    ▶️ Run the cell below.\n",
    "</div>"
   ]
  },
  {
   "cell_type": "code",
   "execution_count": null,
   "metadata": {},
   "outputs": [],
   "source": [
    "print( abs(d) )\n",
    "print( abs(-12) )"
   ]
  },
  {
   "cell_type": "markdown",
   "metadata": {},
   "source": [
    "The `divmod()` function returns the quotient and remainder of two input operands in a tuple. (Tuples are another data type that we will cover later.)\n",
    "\n",
    "```python\n",
    "divmod(64, 4.2)\n",
    ">>> (15.0, 0.9999999999999973)\n",
    "```\n",
    "\n",
    "<p style=\"height: 6pt\" > </p>\n",
    "\n",
    "The `pow()` function is an alternative to the `**` operator for raising a number to an exponent, i.e. $x^y$. An optional third argument is used to return the modulus (`%`) of the power of a number, i.e. $x^y$ % $z$.\n",
    "\n",
    "```python\n",
    "pow(8,2)\n",
    ">>> 64\n",
    "\n",
    "pow(8,2,3)\n",
    ">>> 1\n",
    "```\n",
    "\n",
    "<p style=\"height: 6pt\" > </p>\n",
    "\n",
    "<div class=\"practice\">\n",
    "   📚 Practice 1.\n",
    "    The laws of conservation state that in a closed system, mass, energy, and momentum can be neither created nor destroyed. Thus, the energy coming into the Earth's surface (via solar radiation) must be equal to the energy going out from the Earth's surface. The energy coming in via solar radiation can be written:\n",
    "    $$R_{\\text{in}} = G_s \\pi {r_{e}}^2 (1 - \\alpha)$$\n",
    "    where $r_e$ is the radius of the Earth; $\\alpha$ is the Earth's albedo, a fraction correponding to the amount of incident radiation that is reflected; and $G_s$ is the Solar Constant, or the flux density of the solar radiation at the Earth's surface. The Solar Constant can be calculated according to the equation\n",
    "    $$G_s = \\sigma {T_{sun}}^4 \\left( \\frac{4 \\pi {r_{sun}}^2}{4 \\pi d^2} \\right)$$\n",
    "    where $\\sigma$ is the Stefan-Boltzmann constant, $T_{sun}$ is the temperature of the sun, $r_{sun}$ is the radius of the sun, and $d$ is the average distance between the sun and the Earth. The outgoing radiation from the Earth is given by the Stefan-Boltzmann law:\n",
    "    $$R_{\\text{out}} = \\varepsilon \\sigma A_{e} {T_e}^4$$\n",
    "    where $\\varepsilon$ is the emissivity of the Earth, $A_e$ is the surface area of the Earth approximated as a sphere, and $T_e$ is the temperature of the Earth's surface.\n",
    "    \n",
    "<p style=\"font-weight:bold\"> Given $\\sigma$ = 5.67 $\\times$ 10<sup>-8</sup> W m<sup>-2</sup> K<sup>-4</sup>, the radius of the sun is 6.957 $\\times$ 10<sup>5</sup> km, the temperature of the sun is 5778 K, the average distance between the sun and the Earth is 1.5 $\\times$ 10<sup>8</sup> km, and the emissivity of the Earth is 1.0,</p>\n",
    "<ol class=\"alpha\">\n",
    "    <li> Calculate the Solar Constant in W m<sup>-2</sup>. Print your answer rounded to 3 decimal places. </li>\n",
    "    <li> Calculate the temperature of the Earth's surface in °C. Print your answer as both a float and an integer. </li> \n",
    "    <li>The actual global surface temperature of the Earth is about 14.6°C. What accounts for the difference between the answer you calculated above in the actual surface temperature? </li>\n",
    "</ol>\n",
    "<p style=\"font-weight:bold; margin-top:0pt\">Show your work by including comments in your code and assigning variables.</p>\n",
    "</div>"
   ]
  },
  {
   "cell_type": "code",
   "execution_count": null,
   "metadata": {},
   "outputs": [],
   "source": [
    "# Constants\n",
    "sigma = 5.67e-8  # W m-2 K-4\n",
    "r_sun = 6.957e8  # m\n",
    "T_sun = 5778     # K\n",
    "d = 1.5e11       # m\n",
    "alpha = 0.3      # unitless\n",
    "\n",
    "# 1a. Solar constant\n",
    "print('Practice 1a')\n",
    "g_s = sigma * (T_sun **4) * ((r_sun**2) / (d**2))\n",
    "print('Solar constant = ' + str(round(g_s,3)) + ' W m-2')\n",
    "\n",
    "# 1b. Temperature of the Earth\n",
    "print('Practice 1b')\n",
    "T_e = (((g_s*(1-alpha)) / (4*1.0*sigma))**(1/4)) - 273.15\n",
    "print(\"Temperature of the Earth's surface = \" + str(int(T_e)) + '°C')\n",
    "print(\"Temperature of the Earth's surface = \" + str(T_e) + '°C')"
   ]
  },
  {
   "cell_type": "markdown",
   "metadata": {},
   "source": [
    "1c. Greenhouse gases; i.e. the emissivity of the Earth's atmosphere is not 1.0."
   ]
  },
  {
   "cell_type": "markdown",
   "metadata": {},
   "source": [
    "<hr style=\"border-top: 0.2px solid gray; margin-top: 12px; margin-bottom: 1px\"></hr>\n",
    "\n",
    "### Strings\n",
    "Pieces of text in Python are referred to as strings. Strings are defined with either single or double quotes. The only difference between the two is that it is easier to use an apostrophe with double quotes.\n",
    "```python\n",
    "mytext = 'This is a string.'\n",
    "mytext2 = \"This is also a string.\"\n",
    "```\n",
    "To use an apostrope or single quotes inside a string defined by single quotes (or to use double quotes), use a single backslash ( \\\\ ) referred to as an \"escape\" character.\n",
    "```python\n",
    "q1a = \"What is Newton's 1st law?\"\n",
    "q1b = 'What is Newton\\'s 1st law?'\n",
    "```\n",
    "\n",
    "<div class=\"practice\">\n",
    "   📚 Practice 2.\n",
    "    In the cell below, answer the question by defining a new string variable. Use the <code>print()</code>  command to output your answer.\n",
    "</div>"
   ]
  },
  {
   "cell_type": "code",
   "execution_count": null,
   "metadata": {},
   "outputs": [],
   "source": [
    "# Question\n",
    "q1 = 'What is Newton\\'s 1st law?'\n",
    "\n",
    "# Answer the question by defining a new string variable.\n",
    "a1 = 'An object in motion will stay in motion until it is acted upon by an external force.'\n",
    "# Print your answer.\n",
    "print(q1)\n",
    "print(a1)"
   ]
  },
  {
   "cell_type": "markdown",
   "metadata": {},
   "source": [
    "<h4 style=\"border:1px; border-style:solid; border-color:black; padding: 0.5em;\"> <span style=\"color:black\"> Built-in functions </span> </h4>\n",
    "\n",
    "Just like the `int()` and `float` commands, the `str()` command converts a number to a string.\n",
    "\n",
    "<div class=\"run\">\n",
    "    ▶️ Run the cell below.\n",
    "</div>"
   ]
  },
  {
   "cell_type": "code",
   "execution_count": null,
   "metadata": {},
   "outputs": [],
   "source": [
    "ystr = str(y)"
   ]
  },
  {
   "cell_type": "markdown",
   "metadata": {},
   "source": [
    "The `+` operator can be used to combine two or more strings.\n",
    "\n",
    "<div class=\"run\">\n",
    "    ▶️ Run the cell below.\n",
    "</div>"
   ]
  },
  {
   "cell_type": "code",
   "execution_count": null,
   "metadata": {},
   "outputs": [],
   "source": [
    "s = 'isaac' + ' ' + 'newton'"
   ]
  },
  {
   "cell_type": "markdown",
   "metadata": {},
   "source": [
    "The commands `string.upper()` and `string.capitalize()` can be used to convert all letters in the string to uppercase and capitalize the first letter in the string, respectively.\n",
    "\n",
    "<div class=\"run\">\n",
    "    ▶️ Run the cell below.\n",
    "</div>"
   ]
  },
  {
   "cell_type": "code",
   "execution_count": null,
   "metadata": {},
   "outputs": [],
   "source": [
    "print( s.upper() )\n",
    "print( s.capitalize() )"
   ]
  },
  {
   "cell_type": "markdown",
   "metadata": {},
   "source": [
    "\n",
    "\n",
    "<div class=\"practice\">\n",
    "   📚 Practice 3.\n",
    "    Assign your first and last names to variables and use the <code>+</code> operator to combine them into a single variable. Practice capitalizing the first letter and then the entire string. Print your answers.\n",
    "</div>"
   ]
  },
  {
   "cell_type": "code",
   "execution_count": null,
   "metadata": {},
   "outputs": [],
   "source": [
    "# Define variables\n",
    "first = 'Bryn'\n",
    "last = 'Morgan'\n",
    "# Combine in a single string.\n",
    "full_name = first + ' ' + last\n",
    "# Capitalize the first letter\n",
    "cap_name = full_name.capitalize()\n",
    "# Capitalize the entire string.\n",
    "upper_name = full_name.upper()\n",
    "# Print outputs.\n",
    "print(full_name)\n",
    "print(cap_name)\n",
    "print(upper_name)"
   ]
  },
  {
   "cell_type": "markdown",
   "metadata": {},
   "source": [
    "<h4 style=\"border:1px; border-style:solid; border-color:black; padding: 0.5em;\"> <span style=\"color:black\"> Formatted print statements </span> </h4>\n",
    "\n",
    "Python uses C-style formatting to create new, formatted strings with the `%` operator. This is useful for printing variables in functions and when asking for user input, both of which we will discuss later. Formatted print statements contain a string argument with one of the following specifiers:\n",
    "\n",
    "| Symbol | Task                     |\n",
    "| :----: | :----------------------  |\n",
    "|  `%s`  | Strings                  |\n",
    "|  `%d`  | Integers                 |\n",
    "|  `%f`  | Floating point numbers   |\n",
    "\n",
    "The second argument can contain a variable name or a tuple, which is a list of a fixed size. The arguments are separated by the `%` operator.\n",
    "\n",
    "<div class=\"run\">\n",
    "    ▶️ Run the cell below.\n",
    "</div>"
   ]
  },
  {
   "cell_type": "code",
   "execution_count": null,
   "metadata": {},
   "outputs": [],
   "source": [
    "city = 'Santa Barbara'\n",
    "yrs = 3\n",
    "print( 'I live in %s.' % city )\n",
    "print( 'I have lived in %s for %d years.' % (city,yrs))"
   ]
  },
  {
   "cell_type": "markdown",
   "metadata": {},
   "source": [
    "<div class=\"example\">\n",
    "✏️ Try it.\n",
    "    Use the code below to write a formatted string that prints the sentence <code>My name is [YOUR FIRST NAME]. I am [YOUR AGE] years old.</code>, inputing your name and age. Replace <code>first</code> with the name of the variable you assigned to your first name in the previous question. Replace <code>age</code> with your age as an integer.\n",
    "</div>"
   ]
  },
  {
   "cell_type": "code",
   "execution_count": null,
   "metadata": {},
   "outputs": [],
   "source": [
    "# Define the variable info.\n",
    "info = (first, 25)\n",
    "# Complete the sentence to be printed\n",
    "sentence = \"My name is %s. I am %d years old.\"\n",
    "# Print\n",
    "print( sentence % info)"
   ]
  },
  {
   "cell_type": "markdown",
   "metadata": {},
   "source": [
    "When printing floats, the %f argument specifier can be accompanied by a number of decimal places to print only a certain number of digits.\n",
    "\n",
    "<div class=\"run\">\n",
    "    ▶️ Run the cell below.\n",
    "</div>"
   ]
  },
  {
   "cell_type": "code",
   "execution_count": null,
   "metadata": {},
   "outputs": [],
   "source": [
    "import math\n",
    "pi_sqrt = math.sqrt(math.pi)\n",
    "print(\"The square root of pi is %f.\" % pi_sqrt)\n",
    "print(\"The square root of pi is %.2f.\" % pi_sqrt)"
   ]
  },
  {
   "cell_type": "markdown",
   "metadata": {},
   "source": [
    "\n",
    "\n",
    "<div class=\"practice\">\n",
    "   📚 Practice 4.\n",
    "    Rewrite your answers to practice questions 1a and 1b using formatted print statements. Each answer should include: 1. What you are solving for; 2. Your solution as an integer, float, and a float rounded to 3 decimal places; and 3. Units. For example:\n",
    "\n",
    "<p style=\"font-weight: normal; text-align: center; margin-top: 12pt\"> <code>The radius of the earth is 6,378 km.</code> </p>\n",
    "\n",
    "You should have a total of 6 print statements.\n",
    "\n",
    "</div>"
   ]
  },
  {
   "cell_type": "code",
   "execution_count": null,
   "metadata": {},
   "outputs": [],
   "source": [
    "# Formatted print statement for 1a.\n",
    "print('Solar constant = %d W m-2' % (int(g_s)))\n",
    "print('Solar constant = %f W m-2' % (g_s))\n",
    "print('Solar constant = %.3f W m-2' % (g_s))\n",
    "\n",
    "# Formatted print statement for 1b.\n",
    "print(\"Temperature of the Earth's surface =  %d°C\" % (int(T_e)))\n",
    "print(\"Temperature of the Earth's surface =  %f°C\" % (T_e))\n",
    "print(\"Temperature of the Earth's surface =  %.3f°C\" % (T_e))"
   ]
  },
  {
   "cell_type": "markdown",
   "metadata": {},
   "source": [
    "<hr style=\"border-top: 0.5px solid black; margin-top: 1px; margin-bottom: 1px\"></hr>\n",
    "\n",
    "Recall from Exercise 1.0 that the `input()` function allows for user input within a script or program. Importantly, when Python prompts the user for input, the input is stored as a string, regardless of what it is. Thus, if you write a function (a type of object we will explore in a future exercise) prompting the user for a number, you must be sure to convert the variable storing the input to an integer or float. \n",
    "\n",
    "To demonstrate this, run the following cell, entering the month in which you were born in numerical format (e.g. if you were born in April, your input would be `4`) when prompted.\n",
    "\n",
    "<div class=\"run\">\n",
    "    ▶️ Run the cell below.\n",
    "</div>"
   ]
  },
  {
   "cell_type": "code",
   "execution_count": null,
   "metadata": {},
   "outputs": [],
   "source": [
    "month_in = input('Month of birth (1-12): ')\n",
    "type(month_in)"
   ]
  },
  {
   "cell_type": "markdown",
   "metadata": {},
   "source": [
    "\n",
    "<div class=\"example\">\n",
    "   📚 Practice 5.\n",
    "    Following the example above, create a variable corresponding to the day on which you were born based on user input. Convert both variables to floats and assign the float versions to new variables. Lastly, use one of the boolean operators to evaluate which variable is greater – the day or the month – and print the result.\n",
    "</div>"
   ]
  },
  {
   "cell_type": "code",
   "execution_count": null,
   "metadata": {},
   "outputs": [],
   "source": [
    "# User input variable for day of birth\n",
    "day_in = input('Day of birth (1-31): ')\n",
    "# Convert birth day and month to floats.\n",
    "month = float(month_in)\n",
    "day = float(day_in)\n",
    "# Evaluate boolean operation + print result.\n",
    "print(month > day)"
   ]
  },
  {
   "cell_type": "markdown",
   "metadata": {},
   "source": [
    "<hr style=\"border-top: 1px solid gray; margin-top: 24px; margin-bottom: 1px\"></hr>"
   ]
  },
  {
   "cell_type": "code",
   "execution_count": null,
   "metadata": {
    "cell.metadata.hide_input": "True"
   },
   "outputs": [],
   "source": [
    "# IGNORE THIS CELL\n",
    "from IPython.core.display import HTML\n",
    "def css_styling():\n",
    "    styles = open(\"./styles/exercises.css\", \"r\").read()\n",
    "    return HTML(styles)\n",
    "css_styling()"
   ]
  }
 ],
 "metadata": {
  "kernelspec": {
   "display_name": "Python 3 (ipykernel)",
   "language": "python",
   "name": "python3"
  },
  "language_info": {
   "codemirror_mode": {
    "name": "ipython",
    "version": 3
   },
   "file_extension": ".py",
   "mimetype": "text/x-python",
   "name": "python",
   "nbconvert_exporter": "python",
   "pygments_lexer": "ipython3",
   "version": "3.10.5"
  }
 },
 "nbformat": 4,
 "nbformat_minor": 4
}
