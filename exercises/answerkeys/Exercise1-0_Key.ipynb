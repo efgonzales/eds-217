{
 "cells": [
  {
   "cell_type": "markdown",
   "metadata": {},
   "source": [
    "# Exercise 1.0: Hello, World!\n",
    "Python is a general-purpose, open-source programming language with diverse capabilities. While it is often used for high-level applications and complex tasks, Python's object-oriented structure and clean syntax make it straightforward to learn. Most updates to the Python API are robust to compatibility issues, there are two main versions of the language with significant differences: Python 2 and 3. In this course, we will be using Python 3.\n",
    "\n",
    "Running Python programs requires the Python interpreter, which is preinstalled on Mac and Linux systems, but must be downloaded on Windows machines. Python code can be generated in any text editor and executed in the terminal. Additionally, many programmers use interactive development environments or IDEs. An IDE is a graphical editor where code can be written and executed.\n",
    "\n",
    "In addition to Python scripts (.py files), many data scientists use Jupyter Notebooks (.ipynb files) for experimentation and visualization. While Notebooks are limited in their capabilities, they allow for external code execution, running on the Jupyter Server. For this reason, these exercises have been designed in Jupyter Notebook format, though you are encouraged to explore Python scripts as well.\n",
    "\n",
    "This first tutorial will briefly introduce a few basic Python features.\n",
    "\n",
    "<p style=\"height:1pt\"> </p>\n",
    "\n",
    "<div class=\"boxhead1\">\n",
    "    Exercise 1.0 Topics\n",
    "</div>\n",
    "\n",
    "<div class=\"boxtext1\">\n",
    "<ul class=\"a\">\n",
    "    <li> 📌 Print statements </li>\n",
    "    <li> 📌 User input </li>\n",
    "    <li> 📌 Comments </li>\n",
    "</ul>\n",
    "</div>\n",
    "\n",
    "<hr style=\"border-top: 0.2px solid gray; margin-top: 12pt; margin-bottom: 0pt\"></hr>\n",
    "\n",
    "### Instructions\n",
    "Work through the exercise, writing code where indicated. To run a cell, click on the cell and press \"Shift\" + \"Enter\" or click the \"Run\" button in the toolbar at the top. Note: Do not restart the kernel and clear all outputs. If this happens, run the last cell in the notebook before proceeding.\n",
    "\n",
    "<p style=\"color:#408000; font-weight: bold\"> 🐍 &nbsp; &nbsp; This symbol designates an important note about Python structure, syntax, or another quirk.  </p>\n",
    "\n",
    "<p style=\"color:#008C96; font-weight: bold\"> ▶️ &nbsp; &nbsp; This symbol designates a cell with code to be run.  </p>\n",
    "\n",
    "<p style=\"color:#008C96; font-weight: bold\"> ✏️ &nbsp; &nbsp; This symbol designates a partially coded cell with an example.  </p>\n",
    "\n",
    "<p style=\"color:#008C96; font-weight: bold\"> 📚 &nbsp; &nbsp; This symbol designates a practice question.  </p>\n",
    "\n",
    "\n",
    "<hr style=\"border-top: 1px solid gray; margin-top: 24px; margin-bottom: 1px\"></hr>"
   ]
  },
  {
   "cell_type": "markdown",
   "metadata": {},
   "source": [
    "## Introduction to Python\n",
    "\n",
    "<hr style=\"border-top: 0.2px solid gray; margin-top: 12px; margin-bottom: 1px\"></hr>\n",
    "\n",
    "\n",
    "### Print statements\n",
    "The most basic function in Python is the `print()` function, which simply prints out a line.\n",
    "\n",
    "```python\n",
    "print( 'This is a print statement.' )\n",
    "```\n",
    "<p style=\"font-family: Lucida Console, Courier, monospace; margin-left: 22pt; margin-top: 0pt; margin-bottom: 12pt\"> <span style=\"color: #A514F6; font-weight: bold\"> >>> </span> This is a print statement.</p> \n",
    "\n",
    "\n",
    "<div class=\"run\">\n",
    "    ▶️ Run the cell below.\n",
    "</div>"
   ]
  },
  {
   "cell_type": "code",
   "execution_count": null,
   "metadata": {},
   "outputs": [],
   "source": [
    "print( 'This is a print statement.' )"
   ]
  },
  {
   "cell_type": "markdown",
   "metadata": {},
   "source": [
    "\n",
    "\n",
    "<div class=\"practice\">\n",
    "   📚 Practice 1.\n",
    "    In the following cell, use the <code>print()</code> command to print the line \"Hello, World!\")\n",
    "</div>"
   ]
  },
  {
   "cell_type": "code",
   "execution_count": null,
   "metadata": {},
   "outputs": [],
   "source": [
    "print('Hello, World!')"
   ]
  },
  {
   "cell_type": "markdown",
   "metadata": {},
   "source": [
    "<hr style=\"border-top: 0.2px solid gray; margin-top: 12px; margin-bottom: 1px\"> </hr>\n",
    "\n",
    "### User input \n",
    "\n",
    "The `input()` command is an important Python function that can be used in a program to prompt for user input. \n",
    "\n",
    "<div class=\"example\">\n",
    "✏️ Try it.\n",
    "    Run the following cell to see how the <code>input()</code> function works, inputing your first name when prompted.\n",
    "</div>"
   ]
  },
  {
   "cell_type": "code",
   "execution_count": null,
   "metadata": {},
   "outputs": [],
   "source": [
    "name = input( 'What is your first name? ' )\n",
    "print( 'My name is ' + name + '.' )"
   ]
  },
  {
   "cell_type": "markdown",
   "metadata": {},
   "source": [
    "<hr style=\"border-top: 0.2px solid gray; margin-top: 12px; margin-bottom: 1px\"> </hr>\n",
    "\n",
    "### Comments\n",
    "In programming, a **comment** is a piece of text that the computer ignores when running the program. Comments are usually used at the top of a program to provide a description of the program, name and information of the author, dependencies, etc., as well as throughout the script to explain lines of code. Commenting is a critical element of proper coding etiquette.\n",
    "\n",
    "There are two types of comments: **in-line comments** and **block comments**. In-line comments are used to provide context at the end of a line of code, while block comments come before a \"block\" or chunk of code.\n",
    "\n",
    "<div class=\"python\">\n",
    "    🐍 <b>Note.</b>\n",
    "    In Python, there are two ways of writing comments. For in-line comments and most short comments, the <span style=\"font-weight:bold\"> # </span> character is used. For large block comments, such as those at the beginning of a file or function, three quotations <span style=\"font-weight:bold\">  '''  </span> are used to enclose comments. Both single and double quotations are interpreted the same, as long as they are not used together.\n",
    "</div>\n",
    "\n",
    "The following example is a function (a type of Python object we will cover later on) that uses both methods of commenting. As you can see, without the comments, it would be difficult to understand what the function does, what parameters it takes, and what the intermediate steps are to reach the end.\n",
    "\n",
    "```python    \n",
    "def homo_affine_matrix(p, p_prime):\n",
    "    '''\n",
    "    Finds the unique homogeneous affine transformation that transforms a set of 3 points \n",
    "    from one coordinate system to that of a second set of points in 3-D space\n",
    "    \n",
    "    Parameters\n",
    "    ----------\n",
    "    p : array\n",
    "        original set of points as a row vector: ((p1, p2, p3))\n",
    "    p_prime : array\n",
    "        Transformed points as a row vector: ((p1_prime, p2_prime, p3_prime))\n",
    "    \n",
    "    Returns\n",
    "    -------\n",
    "    array\n",
    "        4 x 3 affine transformation matrix.\n",
    "        \n",
    "    Source: Adapted by B. Morgan from https://math.stackexchange.com/a/222170 (robjohn)\n",
    "    '''\n",
    "    # Construct intermediate matrix\n",
    "    Q       = p[1:]       - p[0]\n",
    "    Q_prime = p_prime[1:] - p_prime[0]\n",
    "\n",
    "    # Calculate rotation matrix\n",
    "    R = np.dot(np.linalg.inv(np.row_stack((Q, np.cross(*Q)))),\n",
    "               np.row_stack((Q_prime, np.cross(*Q_prime))))\n",
    "\n",
    "    # Calculate translation vector\n",
    "    t = p_prime[0] - np.dot(p[0], R)\n",
    "\n",
    "    # Calculate affine transformation matrix\n",
    "    return np.column_stack((np.row_stack((R, t)),\n",
    "                            (0, 0, 0, 1)))\n",
    "```\n",
    "\n",
    "<br> </br>\n",
    "\n",
    "<div class=\"run\">\n",
    "    ▶️ Run the cell below.\n",
    "</div>"
   ]
  },
  {
   "cell_type": "code",
   "execution_count": null,
   "metadata": {},
   "outputs": [],
   "source": [
    "# This comment will not be read by the computer.\n",
    "2 + 2  # Neither will this."
   ]
  },
  {
   "cell_type": "markdown",
   "metadata": {},
   "source": [
    "<hr style=\"border-top: 1px solid gray; margin-top: 24px; margin-bottom: 1px\"></hr>"
   ]
  },
  {
   "cell_type": "code",
   "execution_count": null,
   "metadata": {},
   "outputs": [],
   "source": [
    "# IGNORE THIS CELL\n",
    "from IPython.core.display import HTML\n",
    "def css_styling():\n",
    "    styles = open(\"./styles/exercises.css\", \"r\").read()\n",
    "    return HTML(styles)\n",
    "css_styling()"
   ]
  }
 ],
 "metadata": {
  "kernelspec": {
   "display_name": "Python 3 (ipykernel)",
   "language": "python",
   "name": "python3"
  },
  "language_info": {
   "codemirror_mode": {
    "name": "ipython",
    "version": 3
   },
   "file_extension": ".py",
   "mimetype": "text/x-python",
   "name": "python",
   "nbconvert_exporter": "python",
   "pygments_lexer": "ipython3",
   "version": "3.10.5"
  }
 },
 "nbformat": 4,
 "nbformat_minor": 4
}
