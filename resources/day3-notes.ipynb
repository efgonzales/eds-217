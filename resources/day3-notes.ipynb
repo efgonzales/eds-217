{
 "cells": [
  {
   "cell_type": "code",
   "execution_count": 1,
   "id": "9aee866e-5abb-42e7-9180-7108a51db4e8",
   "metadata": {},
   "outputs": [
    {
     "name": "stdout",
     "output_type": "stream",
     "text": [
      "('a', 1, 'i')\n",
      "('b', 2, 'j')\n",
      "('c', 3, 'k')\n",
      "('d', 4, 'l')\n"
     ]
    }
   ],
   "source": [
    "list_1 = ['a', 'b', 'c', 'd']\n",
    "list_2 = [1, 2, 3, 4]\n",
    "list_3 = ['i', 'j', 'k', 'l']\n",
    "\n",
    "for stuff in zip(list_1, list_2, list_3):\n",
    "    print(stuff)"
   ]
  },
  {
   "cell_type": "code",
   "execution_count": 7,
   "id": "ba9bbe6e-b2d0-42ea-b2c9-3dd4e60f1802",
   "metadata": {},
   "outputs": [
    {
     "name": "stdout",
     "output_type": "stream",
     "text": [
      "['astuff', 'bstuff', 'cstuff', 'dstuff']\n"
     ]
    }
   ],
   "source": [
    "def f(x):\n",
    "    return x + 'stuff'\n",
    "\n",
    "#new_list = []\n",
    "#for value in list_1:\n",
    "#    new_list.append(f(value))\n",
    "    \n",
    "new_list = [f(value) for value in list_1]\n",
    "print(new_list)"
   ]
  },
  {
   "cell_type": "markdown",
   "id": "55c1fd8e-2270-48ec-a981-1fa17d92470c",
   "metadata": {},
   "source": [
    "List comprehensions: Take one list; generate a new set of desired numbers...?\n",
    "- don't have to index things? You can check each value against if statement, append values to list"
   ]
  },
  {
   "cell_type": "code",
   "execution_count": 2,
   "id": "add8450b-8509-46a0-9b8f-53bc9d151edc",
   "metadata": {},
   "outputs": [
    {
     "name": "stdout",
     "output_type": "stream",
     "text": [
      "[0, 1, 4, 9, 16, 25, 36, 49, 64, 81, 100]\n"
     ]
    }
   ],
   "source": [
    "squares = []\n",
    "for x in range(11):\n",
    "    squares.append(x**2)\n",
    "    \n",
    "print(squares)"
   ]
  },
  {
   "cell_type": "code",
   "execution_count": 5,
   "id": "f57b3435-c563-43c0-892a-cf4e6440baa8",
   "metadata": {},
   "outputs": [
    {
     "name": "stdout",
     "output_type": "stream",
     "text": [
      "[0, 2, 4, 6, 8, 10, 12, 14, 16, 18, 20, 22, 24, 26, 28, 30, 32, 34, 36, 38, 40, 42, 44, 46, 48, 50, 52, 54, 56, 58, 60, 62, 64, 66, 68, 70, 72, 74, 76, 78, 80, 82, 84, 86, 88, 90, 92, 94, 96, 98, 100]\n"
     ]
    }
   ],
   "source": [
    "evens = [x for x in range(101) if x%2 == 0] \n",
    "#if x can be divided by 2 without a remainder/x is even\n",
    "\n",
    "print(evens)"
   ]
  },
  {
   "cell_type": "code",
   "execution_count": null,
   "id": "dc79d875-8aab-4eba-afac-78454dbbcbaa",
   "metadata": {},
   "outputs": [],
   "source": []
  }
 ],
 "metadata": {
  "kernelspec": {
   "display_name": "Python 3 (ipykernel)",
   "language": "python",
   "name": "python3"
  },
  "language_info": {
   "codemirror_mode": {
    "name": "ipython",
    "version": 3
   },
   "file_extension": ".py",
   "mimetype": "text/x-python",
   "name": "python",
   "nbconvert_exporter": "python",
   "pygments_lexer": "ipython3",
   "version": "3.10.5"
  }
 },
 "nbformat": 4,
 "nbformat_minor": 5
}
